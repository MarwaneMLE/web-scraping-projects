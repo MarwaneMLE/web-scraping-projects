{
 "cells": [
  {
   "cell_type": "markdown",
   "metadata": {},
   "source": [
    "# Site statique 1 : Wikipedia (extraire un tableau de données)"
   ]
  },
  {
   "cell_type": "markdown",
   "metadata": {},
   "source": [
    "##  Installation des bibliothèques"
   ]
  },
  {
   "cell_type": "markdown",
   "metadata": {},
   "source": [
    "**Ce projet vous guidera pour extraire des tableaux de données au format HTML**"
   ]
  },
  {
   "cell_type": "code",
   "execution_count": 1,
   "metadata": {
    "scrolled": true
   },
   "outputs": [],
   "source": [
    "#!pip install requests \n",
    "#!pip install bs4 import BeautifulSoup \n",
    "#!pip install pandas"
   ]
  },
  {
   "cell_type": "markdown",
   "metadata": {},
   "source": [
    "##  Importation des bibliothèques"
   ]
  },
  {
   "cell_type": "code",
   "execution_count": 2,
   "metadata": {},
   "outputs": [],
   "source": [
    "import requests \n",
    "from bs4 import BeautifulSoup \n",
    "import pandas as pd\n",
    "import time #  module intégré dans Python\n",
    "import re #  module intégré dans Python"
   ]
  },
  {
   "cell_type": "markdown",
   "metadata": {},
   "source": [
    "##  Définir les en-têtes et le lien du site à scraper"
   ]
  },
  {
   "cell_type": "code",
   "execution_count": 3,
   "metadata": {},
   "outputs": [],
   "source": [
    "# Les entêtes 'user-agent' sont spécifiques à votre système. Cela permet d'imiter un navigateur.\n",
    "HEADERS = {\n",
    "    \"user-agent\": \"Mozilla/5.0 (Windows NT 6.1; Win64; x64; rv:47.0) Gecko/20100101 Firefox/47.0\"\n",
    "}\n",
    "\n",
    "# lien du site\n",
    "lien = \"https://en.wikipedia.org/wiki/List_of_largest_French_companies\""
   ]
  },
  {
   "cell_type": "markdown",
   "metadata": {},
   "source": [
    "## Faire une requête et vérifier si elle a été exécutée avec succès"
   ]
  },
  {
   "cell_type": "code",
   "execution_count": 4,
   "metadata": {},
   "outputs": [
    {
     "data": {
      "text/plain": [
       "200"
      ]
     },
     "execution_count": 4,
     "metadata": {},
     "output_type": "execute_result"
    }
   ],
   "source": [
    "# Envoi de la requête GET à l'URL avec l'entête 'user-agent' défini\n",
    "response = requests.get(lien, headers=HEADERS)\n",
    "response.status_code"
   ]
  },
  {
   "cell_type": "markdown",
   "metadata": {},
   "source": [
    "\n",
    "**response.status_code** retourne 200, ce qui signifie que la requête HTTP a été exécutée avec succès.\n",
    "\n",
    "L'agent utilisateur **User-Agent** n'est pas toujours obligatoire, mais il est préférable de l'ajouter afin que le certain site ne vous bloque pas."
   ]
  },
  {
   "cell_type": "markdown",
   "metadata": {},
   "source": [
    "## Analyse de contenu HTML avec BeautifulSoup"
   ]
  },
  {
   "cell_type": "code",
   "execution_count": 6,
   "metadata": {},
   "outputs": [],
   "source": [
    "# Analyse la réponse avec BeautifulSoup en utilisant l'analyseur HTML\n",
    "soup = BeautifulSoup(response.text, \"html.parser\")"
   ]
  },
  {
   "cell_type": "markdown",
   "metadata": {},
   "source": [
    "La variable **soup** contient l'object BeautifulSoup."
   ]
  },
  {
   "cell_type": "code",
   "execution_count": 7,
   "metadata": {},
   "outputs": [
    {
     "name": "stdout",
     "output_type": "stream",
     "text": [
      "<!DOCTYPE html>\n",
      "<html class=\"client-nojs vector-feature-language-in-header-enabled vector-feature-language-in-main-page-header-disabled vector-feature-sticky-header-disabled vector-feature-page-tools-pinned-disabled vector-feature-toc-pinned-clientpref-1 vector-feature-main-menu-pinned-disabled vector-feature-limited-width-clientpref-1 vector-feature-limited-width-content-enabled vector-feature-custom-font-size-clientpref-1 vector-feature-appearance-pinned-clientpref-1 vector-feature-night-mode-enabled skin-theme-clientpref-day vector-toc-available\" dir=\"ltr\" lang=\"en\">\n",
      " <head>\n",
      "  <meta charset=\"utf-8\"/>\n",
      "  <title>\n",
      "   List of largest French companies - Wikipedia\n",
      "  </title>\n",
      "  <script>\n",
      "   (function(){var className=\"client-js vector-feature-language-in-header-enabled vector-feature-language-in-main-page-header-disabled vector-feature-sticky-header-disabled vector-feature-page-tools-pinned-disabled vector-feature-toc-pinned-clientpref-1 vector-feature-main-menu-pinned-disabled vector-feature-limited-width-clientpref-1 vector-feature-limited-width-content-enabled vector-feature-custom-font-size-clientpref-1 vector-feature-appearance-pinned-clientpref-1 vector-feature-night-mode-enabled skin-theme-clientpref-day vector-toc-available\";var cookie=document.cookie.match(/(?:^|; )enwikimwclientpreferences=([^;]+)/);if(cookie){cookie[1].split('%2C').forEach(function(pref){className=className.replace(new RegExp('(^| )'+pref.replace(/-clientpref-\\w+$|[^\\w-]+/g,'')+'-clientpref-\\\\w+( |$)'),'$\n"
     ]
    }
   ],
   "source": [
    "# prettify est une méthode pour affiche le contenu HTML formaté\n",
    "print(soup.prettify()[:1500]) # affiche des 1500 premiers caratère)"
   ]
  },
  {
   "cell_type": "markdown",
   "metadata": {},
   "source": [
    "## Sélection des balises et classe ou ID\n",
    "\n",
    "Avec **BeautifulSoup** et ces méthodes **find()** et **find_all()**, vous pouvez récupérer des données spécifiques en passant la balise, ainsi que la classe ou l'ID comme paramètres pour cibler les données spécifiques.\n",
    "\n",
    "* **find()**: renvoie le premier un élément HTML\n",
    "\n",
    "* **find_all()**: renvoie la liste de tous les éléments HTML"
   ]
  },
  {
   "cell_type": "code",
   "execution_count": 8,
   "metadata": {},
   "outputs": [],
   "source": [
    "# Recherche tous les tableaux avec la classe \"wikitable sortable\"\n",
    "tables = soup.find_all(\"table\", class_=\"wikitable sortable\")"
   ]
  },
  {
   "cell_type": "code",
   "execution_count": 9,
   "metadata": {},
   "outputs": [
    {
     "data": {
      "text/plain": [
       "2"
      ]
     },
     "execution_count": 9,
     "metadata": {},
     "output_type": "execute_result"
    }
   ],
   "source": [
    "len(tables)"
   ]
  },
  {
   "cell_type": "markdown",
   "metadata": {},
   "source": [
    "La variable **tables** contient une liste des tableaux HTML associés à la balise <table>"
   ]
  },
  {
   "cell_type": "code",
   "execution_count": 10,
   "metadata": {},
   "outputs": [],
   "source": [
    "# Recherche des titres des sections d'années\n",
    "annee = soup.find_all(\"div\", class_=\"mw-heading mw-heading2\")\n",
    "\n",
    "# Récupération des années sous forme de liste\n",
    "annees = [annee[i].find(\"h2\").text for i in range(len(annee))]"
   ]
  },
  {
   "cell_type": "markdown",
   "metadata": {},
   "source": [
    "La variable **annee** contient une liste de contenus HTML déterminés par la balise <div> et la classe \"mw-heading mw-heading2\"."
   ]
  },
  {
   "cell_type": "code",
   "execution_count": 11,
   "metadata": {},
   "outputs": [
    {
     "data": {
      "text/plain": [
       "['2024', '2019']"
      ]
     },
     "execution_count": 11,
     "metadata": {},
     "output_type": "execute_result"
    }
   ],
   "source": [
    "\n",
    "# Liste des années extraites (seulement les chiffres)\n",
    "rank_annees = [\n",
    "    \"\".join(re.findall(r'\\d+', annees[i])) for i in range(len(annees)) if \"\".join(re.findall(r'\\d+', annees[i])) != \"\"\n",
    "]\n",
    "rank_annees"
   ]
  },
  {
   "cell_type": "markdown",
   "metadata": {},
   "source": [
    "**rank_annees** est une liste en compréhension qui extrait les années en utilisant des expressions régulières pour ne récupérer que les chiffres. Cette liste est équivalente au code suivant:"
   ]
  },
  {
   "cell_type": "code",
   "execution_count": 12,
   "metadata": {},
   "outputs": [
    {
     "data": {
      "text/plain": [
       "['2024', '2019']"
      ]
     },
     "execution_count": 12,
     "metadata": {},
     "output_type": "execute_result"
    }
   ],
   "source": [
    "rank_years = []\n",
    "for i in range(len(annees)):\n",
    "    # Recupere juste les chifres dans la chaine de caractère\n",
    "    year = \"\".join(re.findall(r'\\d+', annees[i]))\n",
    "    if year != \"\":\n",
    "        rank_years.append(year)\n",
    "\n",
    "rank_years"
   ]
  },
  {
   "cell_type": "code",
   "execution_count": 13,
   "metadata": {},
   "outputs": [],
   "source": [
    "# Liste pour stocker les DataFrames extraits des tableaux\n",
    "liste_tableaux = []\n",
    "\n",
    "# Boucle pour itérer à travers les tableaux et les années correspondantes\n",
    "for table, ann in zip(tables, range(len(rank_annees))):\n",
    "    # Extraction des entêtes de colonnes du tableau\n",
    "    variables = table.find_all(\"th\")"
   ]
  },
  {
   "cell_type": "markdown",
   "metadata": {},
   "source": [
    "## 6. Récupérer les entêtes du tableau"
   ]
  },
  {
   "cell_type": "code",
   "execution_count": 14,
   "metadata": {},
   "outputs": [
    {
     "data": {
      "text/plain": [
       "['Rank',\n",
       " 'Fortune 2000rank',\n",
       " 'Name',\n",
       " 'Headquarters',\n",
       " 'Revenue(USD billions)',\n",
       " 'Profits(USD billions)',\n",
       " 'Total Assets(USD billions)',\n",
       " 'Market Value(USD billions)',\n",
       " 'Industry']"
      ]
     },
     "execution_count": 14,
     "metadata": {},
     "output_type": "execute_result"
    }
   ],
   "source": [
    "# Liste en compréhension pour récupérer les en-têtes des tableaux\n",
    "liste_variables = [variable.text.strip() for variable in variables]\n",
    "liste_variables"
   ]
  },
  {
   "cell_type": "code",
   "execution_count": 15,
   "metadata": {},
   "outputs": [
    {
     "data": {
      "text/plain": [
       "'Rank'"
      ]
     },
     "execution_count": 15,
     "metadata": {},
     "output_type": "execute_result"
    }
   ],
   "source": [
    "liste_variables[0]"
   ]
  },
  {
   "cell_type": "code",
   "execution_count": 16,
   "metadata": {},
   "outputs": [
    {
     "data": {
      "text/plain": [
       "'Rank 2019'"
      ]
     },
     "execution_count": 16,
     "metadata": {},
     "output_type": "execute_result"
    }
   ],
   "source": [
    "# Modification du nom de la première colonne pour inclure l'année\n",
    "liste_variables[0] = \"Rank \" + str(rank_annees[ann])\n",
    "liste_variables[0]"
   ]
  },
  {
   "cell_type": "markdown",
   "metadata": {},
   "source": [
    "Le code suivant retourne toutes les lignes du tableau sans en-tête."
   ]
  },
  {
   "cell_type": "code",
   "execution_count": 17,
   "metadata": {},
   "outputs": [
    {
     "data": {
      "text/plain": [
       "<tr>\n",
       "<td>1\n",
       "</td>\n",
       "<td>25\n",
       "</td>\n",
       "<td align=\"left\"><a class=\"mw-redirect\" href=\"/wiki/Total_SA\" title=\"Total SA\">Total</a>\n",
       "</td>\n",
       "<td align=\"left\">Courbevoie\n",
       "</td>\n",
       "<td>184.2\n",
       "</td>\n",
       "<td>11.4\n",
       "</td>\n",
       "<td>256.8\n",
       "</td>\n",
       "<td>149.5\n",
       "</td>\n",
       "<td align=\"left\">Oil and gas\n",
       "</td></tr>"
      ]
     },
     "execution_count": 17,
     "metadata": {},
     "output_type": "execute_result"
    }
   ],
   "source": [
    "# Récupération des lignes de données, excluant la première ligne (les en-têtes)\n",
    "lignes_data = table.find_all(\"tr\")[1:]\n",
    "# afficher la premiere ligne\n",
    "lignes_data[0]"
   ]
  },
  {
   "cell_type": "code",
   "execution_count": 18,
   "metadata": {},
   "outputs": [
    {
     "data": {
      "text/plain": [
       "[['1',\n",
       "  '25',\n",
       "  'Total',\n",
       "  'Courbevoie',\n",
       "  '184.2',\n",
       "  '11.4',\n",
       "  '256.8',\n",
       "  '149.5',\n",
       "  'Oil and gas'],\n",
       " ['2',\n",
       "  '34',\n",
       "  'BNP Paribas',\n",
       "  'Paris',\n",
       "  '101.6',\n",
       "  '8.4',\n",
       "  '2,333.0',\n",
       "  '68.7',\n",
       "  'Banking']]"
      ]
     },
     "execution_count": 18,
     "metadata": {},
     "output_type": "execute_result"
    }
   ],
   "source": [
    "# Liste pour stocker les lignes de données extraites\n",
    "valeurs_lignes = []\n",
    "for row in lignes_data:\n",
    "    row_df = row.find_all(\"td\")\n",
    "    # Extraction des valeurs de chaque cellule de la ligne\n",
    "    ligne = [content.text.strip() for content in row_df]\n",
    "    valeurs_lignes.append(ligne)\n",
    "\n",
    "# afficher les deux premiers lignes\n",
    "valeurs_lignes[:2]"
   ]
  },
  {
   "cell_type": "markdown",
   "metadata": {},
   "source": [
    "## 7. Mettre des données scrappées dans une dataframe"
   ]
  },
  {
   "cell_type": "code",
   "execution_count": 19,
   "metadata": {},
   "outputs": [
    {
     "data": {
      "text/html": [
       "<div>\n",
       "<style scoped>\n",
       "    .dataframe tbody tr th:only-of-type {\n",
       "        vertical-align: middle;\n",
       "    }\n",
       "\n",
       "    .dataframe tbody tr th {\n",
       "        vertical-align: top;\n",
       "    }\n",
       "\n",
       "    .dataframe thead th {\n",
       "        text-align: right;\n",
       "    }\n",
       "</style>\n",
       "<table border=\"1\" class=\"dataframe\">\n",
       "  <thead>\n",
       "    <tr style=\"text-align: right;\">\n",
       "      <th></th>\n",
       "      <th>Rank 2019</th>\n",
       "      <th>Fortune 2000rank</th>\n",
       "      <th>Name</th>\n",
       "      <th>Headquarters</th>\n",
       "      <th>Revenue(USD billions)</th>\n",
       "      <th>Profits(USD billions)</th>\n",
       "      <th>Total Assets(USD billions)</th>\n",
       "      <th>Market Value(USD billions)</th>\n",
       "      <th>Industry</th>\n",
       "    </tr>\n",
       "  </thead>\n",
       "  <tbody>\n",
       "    <tr>\n",
       "      <th>0</th>\n",
       "      <td>1</td>\n",
       "      <td>25</td>\n",
       "      <td>Total</td>\n",
       "      <td>Courbevoie</td>\n",
       "      <td>184.2</td>\n",
       "      <td>11.4</td>\n",
       "      <td>256.8</td>\n",
       "      <td>149.5</td>\n",
       "      <td>Oil and gas</td>\n",
       "    </tr>\n",
       "    <tr>\n",
       "      <th>1</th>\n",
       "      <td>2</td>\n",
       "      <td>34</td>\n",
       "      <td>BNP Paribas</td>\n",
       "      <td>Paris</td>\n",
       "      <td>101.6</td>\n",
       "      <td>8.4</td>\n",
       "      <td>2,333.0</td>\n",
       "      <td>68.7</td>\n",
       "      <td>Banking</td>\n",
       "    </tr>\n",
       "    <tr>\n",
       "      <th>2</th>\n",
       "      <td>3</td>\n",
       "      <td>85</td>\n",
       "      <td>Axa</td>\n",
       "      <td>Paris</td>\n",
       "      <td>139.7</td>\n",
       "      <td>2.2</td>\n",
       "      <td>1,034.5</td>\n",
       "      <td>63.6</td>\n",
       "      <td>Insurance</td>\n",
       "    </tr>\n",
       "    <tr>\n",
       "      <th>3</th>\n",
       "      <td>4</td>\n",
       "      <td>104</td>\n",
       "      <td>Crédit Agricole</td>\n",
       "      <td>Paris</td>\n",
       "      <td>52.2</td>\n",
       "      <td>4.7</td>\n",
       "      <td>1,856.9</td>\n",
       "      <td>38.4</td>\n",
       "      <td>Banking</td>\n",
       "    </tr>\n",
       "    <tr>\n",
       "      <th>4</th>\n",
       "      <td>5</td>\n",
       "      <td>114</td>\n",
       "      <td>Sanofi</td>\n",
       "      <td>Paris</td>\n",
       "      <td>40.7</td>\n",
       "      <td>5.1</td>\n",
       "      <td>127.4</td>\n",
       "      <td>102.0</td>\n",
       "      <td>Pharmaceuticals</td>\n",
       "    </tr>\n",
       "  </tbody>\n",
       "</table>\n",
       "</div>"
      ],
      "text/plain": [
       "  Rank 2019 Fortune 2000rank             Name Headquarters  \\\n",
       "0         1               25            Total   Courbevoie   \n",
       "1         2               34      BNP Paribas        Paris   \n",
       "2         3               85              Axa        Paris   \n",
       "3         4              104  Crédit Agricole        Paris   \n",
       "4         5              114           Sanofi        Paris   \n",
       "\n",
       "  Revenue(USD billions) Profits(USD billions) Total Assets(USD billions)  \\\n",
       "0                 184.2                  11.4                      256.8   \n",
       "1                 101.6                   8.4                    2,333.0   \n",
       "2                 139.7                   2.2                    1,034.5   \n",
       "3                  52.2                   4.7                    1,856.9   \n",
       "4                  40.7                   5.1                      127.4   \n",
       "\n",
       "  Market Value(USD billions)         Industry  \n",
       "0                      149.5      Oil and gas  \n",
       "1                       68.7          Banking  \n",
       "2                       63.6        Insurance  \n",
       "3                       38.4          Banking  \n",
       "4                      102.0  Pharmaceuticals  "
      ]
     },
     "execution_count": 19,
     "metadata": {},
     "output_type": "execute_result"
    }
   ],
   "source": [
    "# Création d'un DataFrame avec les données extraites et les en-têtes de colonnes\n",
    "df = pd.DataFrame(data=valeurs_lignes, columns=liste_variables)\n",
    "df.head()"
   ]
  },
  {
   "cell_type": "markdown",
   "metadata": {},
   "source": [
    "## 8. Sauvegardez les données dans un fichier"
   ]
  },
  {
   "cell_type": "code",
   "execution_count": 20,
   "metadata": {},
   "outputs": [],
   "source": [
    "# Sauvegarde des données dans un fichier CSV\n",
    "df.to_csv(f\"List_of_largest_French_companies-{rank_annees[ann]}.csv\", index=False)"
   ]
  },
  {
   "cell_type": "code",
   "execution_count": 21,
   "metadata": {},
   "outputs": [],
   "source": [
    "# Sauvegarde des données dans un fichier Excel\n",
    "# df.to_excel(f\"List_of_largest_French_companies-{rank_annees[ann]}.xlsx\", index=False)"
   ]
  },
  {
   "cell_type": "code",
   "execution_count": 22,
   "metadata": {},
   "outputs": [
    {
     "data": {
      "text/html": [
       "<div>\n",
       "<style scoped>\n",
       "    .dataframe tbody tr th:only-of-type {\n",
       "        vertical-align: middle;\n",
       "    }\n",
       "\n",
       "    .dataframe tbody tr th {\n",
       "        vertical-align: top;\n",
       "    }\n",
       "\n",
       "    .dataframe thead th {\n",
       "        text-align: right;\n",
       "    }\n",
       "</style>\n",
       "<table border=\"1\" class=\"dataframe\">\n",
       "  <thead>\n",
       "    <tr style=\"text-align: right;\">\n",
       "      <th></th>\n",
       "      <th>Rank 2019</th>\n",
       "      <th>Fortune 2000rank</th>\n",
       "      <th>Name</th>\n",
       "      <th>Headquarters</th>\n",
       "      <th>Revenue(USD billions)</th>\n",
       "      <th>Profits(USD billions)</th>\n",
       "      <th>Total Assets(USD billions)</th>\n",
       "      <th>Market Value(USD billions)</th>\n",
       "      <th>Industry</th>\n",
       "    </tr>\n",
       "  </thead>\n",
       "  <tbody>\n",
       "    <tr>\n",
       "      <th>0</th>\n",
       "      <td>1</td>\n",
       "      <td>25</td>\n",
       "      <td>Total</td>\n",
       "      <td>Courbevoie</td>\n",
       "      <td>184.2</td>\n",
       "      <td>11.4</td>\n",
       "      <td>256.8</td>\n",
       "      <td>149.5</td>\n",
       "      <td>Oil and gas</td>\n",
       "    </tr>\n",
       "    <tr>\n",
       "      <th>1</th>\n",
       "      <td>2</td>\n",
       "      <td>34</td>\n",
       "      <td>BNP Paribas</td>\n",
       "      <td>Paris</td>\n",
       "      <td>101.6</td>\n",
       "      <td>8.4</td>\n",
       "      <td>2,333.0</td>\n",
       "      <td>68.7</td>\n",
       "      <td>Banking</td>\n",
       "    </tr>\n",
       "    <tr>\n",
       "      <th>2</th>\n",
       "      <td>3</td>\n",
       "      <td>85</td>\n",
       "      <td>Axa</td>\n",
       "      <td>Paris</td>\n",
       "      <td>139.7</td>\n",
       "      <td>2.2</td>\n",
       "      <td>1,034.5</td>\n",
       "      <td>63.6</td>\n",
       "      <td>Insurance</td>\n",
       "    </tr>\n",
       "    <tr>\n",
       "      <th>3</th>\n",
       "      <td>4</td>\n",
       "      <td>104</td>\n",
       "      <td>Crédit Agricole</td>\n",
       "      <td>Paris</td>\n",
       "      <td>52.2</td>\n",
       "      <td>4.7</td>\n",
       "      <td>1,856.9</td>\n",
       "      <td>38.4</td>\n",
       "      <td>Banking</td>\n",
       "    </tr>\n",
       "    <tr>\n",
       "      <th>4</th>\n",
       "      <td>5</td>\n",
       "      <td>114</td>\n",
       "      <td>Sanofi</td>\n",
       "      <td>Paris</td>\n",
       "      <td>40.7</td>\n",
       "      <td>5.1</td>\n",
       "      <td>127.4</td>\n",
       "      <td>102.0</td>\n",
       "      <td>Pharmaceuticals</td>\n",
       "    </tr>\n",
       "  </tbody>\n",
       "</table>\n",
       "</div>"
      ],
      "text/plain": [
       "  Rank 2019 Fortune 2000rank             Name Headquarters  \\\n",
       "0         1               25            Total   Courbevoie   \n",
       "1         2               34      BNP Paribas        Paris   \n",
       "2         3               85              Axa        Paris   \n",
       "3         4              104  Crédit Agricole        Paris   \n",
       "4         5              114           Sanofi        Paris   \n",
       "\n",
       "  Revenue(USD billions) Profits(USD billions) Total Assets(USD billions)  \\\n",
       "0                 184.2                  11.4                      256.8   \n",
       "1                 101.6                   8.4                    2,333.0   \n",
       "2                 139.7                   2.2                    1,034.5   \n",
       "3                  52.2                   4.7                    1,856.9   \n",
       "4                  40.7                   5.1                      127.4   \n",
       "\n",
       "  Market Value(USD billions)         Industry  \n",
       "0                      149.5      Oil and gas  \n",
       "1                       68.7          Banking  \n",
       "2                       63.6        Insurance  \n",
       "3                       38.4          Banking  \n",
       "4                      102.0  Pharmaceuticals  "
      ]
     },
     "execution_count": 22,
     "metadata": {},
     "output_type": "execute_result"
    }
   ],
   "source": [
    "# Création d'un DataFrame avec les données extraites et les en-têtes de colonnes\n",
    "df = pd.DataFrame(data=valeurs_lignes, columns=liste_variables)\n",
    "df.head()"
   ]
  },
  {
   "cell_type": "code",
   "execution_count": 23,
   "metadata": {},
   "outputs": [],
   "source": [
    "\n",
    "# Sauvegarde des données dans un fichier CSV ou Excel\n",
    "df.to_csv(f\"List_of_largest_French_companies-{rank_annees[ann]}.csv\", index=False)\n",
    "\n",
    "# df.to_excel(f\"List_of_largest_French_companies-{rank_annees[ann]}.xlsx\", index=False)"
   ]
  },
  {
   "cell_type": "markdown",
   "metadata": {},
   "source": [
    "================================================================================================================================================="
   ]
  },
  {
   "cell_type": "markdown",
   "metadata": {},
   "source": [
    "# Méthode pour récupérer des tableaux de données sur Wikipedia"
   ]
  },
  {
   "cell_type": "code",
   "execution_count": 24,
   "metadata": {},
   "outputs": [],
   "source": [
    "import requests \n",
    "from bs4 import BeautifulSoup \n",
    "import pandas as pd\n",
    "import time #  module intégré dans Python\n",
    "import re #  module intégré dans Python\n",
    "\n",
    "\n",
    "# Les entêtes 'user-agent' sont spécifiques à votre système. Cela permet d'imiter un navigateur.\n",
    "HEADERS = {\n",
    "    \"user-agent\": \"Mozilla/5.0 (Windows NT 6.1; Win64; x64; rv:47.0) Gecko/20100101 Firefox/47.0\"\n",
    "}\n",
    "\n",
    "\n",
    "def scrape_tableau(url):\n",
    "    \"\"\"  \n",
    "    Méthode pour scraper des tableaux d'une page web.\n",
    "    Args:\n",
    "        url (str): Lien de la page à scraper.\n",
    "    Retourne: Une liste de DataFrames, chaque DataFrame représentant un tableau extrait de la page.\n",
    "    \"\"\"\n",
    "    # Envoi de la requête GET à l'URL avec l'entête 'user-agent' défini\n",
    "    response = requests.get(url, headers=HEADERS)\n",
    "    \n",
    "    # Pause pour ne pas surcharger le serveur avec des requêtes consécutives\n",
    "    time.sleep(3)\n",
    "    \n",
    "    # Vérifie si la requête a réussi\n",
    "    if response.status_code == 200:\n",
    "        # Analyse la réponse avec BeautifulSoup en utilisant l'analyseur HTML\n",
    "        soup = BeautifulSoup(response.text, \"html.parser\")\n",
    "\n",
    "        # Recherche tous les tableaux avec la classe \"wikitable sortable\"\n",
    "        tables = soup.find_all(\"table\", class_=\"wikitable sortable\")\n",
    "        \n",
    "        # Recherche des titres des sections d'années\n",
    "        annee = soup.find_all(\"div\", class_=\"mw-heading mw-heading2\")\n",
    "        \n",
    "        # Récupération des années sous forme de liste\n",
    "        annees = [annee[i].find(\"h2\").text for i in range(len(annee))]\n",
    "        \n",
    "        # Liste des années extraites (seulement les chiffres)\n",
    "        rank_annees = [\"\".join(re.findall(r'\\d+', annees[i])) for i in range(len(annees))\n",
    "                        if \"\".join(re.findall(r'\\d+', annees[i])) != \"\"]\n",
    "        \n",
    "        # Liste pour stocker les DataFrames extraits des tableaux\n",
    "        liste_tableaux = []\n",
    "\n",
    "        # Boucle pour itérer à travers les tableaux et les années correspondantes\n",
    "        for table, ann in zip(tables, range(len(rank_annees))):\n",
    "            # Extraction des entêtes de colonnes du tableau\n",
    "            variables = table.find_all(\"th\")\n",
    "\n",
    "            # Liste en compréhension pour récupérer les en-têtes des tableaux\n",
    "            liste_variables = [variable.text.strip() for variable in variables]\n",
    "            \n",
    "            # Modification du nom de la première colonne pour inclure l'année\n",
    "            liste_variables[0] = \"Rank of \" + str(rank_annees[ann])\n",
    "\n",
    "            # Récupération des lignes de données, excluant la première ligne (les en-têtes)\n",
    "            lignes_data = table.find_all(\"tr\")[1:]\n",
    "\n",
    "            # Liste pour stocker les lignes de données extraites\n",
    "            valeurs_lignes = []\n",
    "            for row in lignes_data:\n",
    "                row_df = row.find_all(\"td\")\n",
    "                # Extraction des valeurs de chaque cellule de la ligne\n",
    "                ligne = [content.text.strip() for content in row_df]\n",
    "                valeurs_lignes.append(ligne)\n",
    "\n",
    "            # Création d'un DataFrame avec les données extraites et les en-têtes de colonnes\n",
    "            df = pd.DataFrame(data=valeurs_lignes, columns=liste_variables)\n",
    "\n",
    "            # Sauvegarde des données dans un fichier CSV ou Excel\n",
    "            df.to_csv(f\"List_of_largest_French_companies-{rank_annees[ann]}.csv\", index=False)\n",
    "            # Vous pouvez aussi sauvegarder en format Excel en décommentant la ligne suivante:\n",
    "            # df.to_excel(f\"List_of_largest_French_companies-{rank_annees[ann]}.xlsx\", index=False)\n",
    "            \n",
    "            # Ajout du DataFrame à la liste\n",
    "            liste_tableaux.append(df)\n",
    "\n",
    "    # Retourne la liste de DataFrames\n",
    "    return liste_tableaux"
   ]
  },
  {
   "cell_type": "code",
   "execution_count": 25,
   "metadata": {},
   "outputs": [],
   "source": [
    "# Le lien dans la variable \"url\" pointe vers une page Wikipedia contenant deux tableaux de données.\n",
    "# La fonction 'scrape_tableau' est définie pour récupérer ces deux tableaux et les stocker dans une liste.\n",
    "\n",
    "url = \"https://en.wikipedia.org/wiki/List_of_largest_French_companies\" \n",
    "\n",
    "# Appel de la fonction 'scrape_tableau' avec l'URL fournie pour récupérer les tableaux.\n",
    "liste_tableaux = scrape_tableau(url)"
   ]
  },
  {
   "cell_type": "code",
   "execution_count": 26,
   "metadata": {},
   "outputs": [
    {
     "data": {
      "text/html": [
       "<div>\n",
       "<style scoped>\n",
       "    .dataframe tbody tr th:only-of-type {\n",
       "        vertical-align: middle;\n",
       "    }\n",
       "\n",
       "    .dataframe tbody tr th {\n",
       "        vertical-align: top;\n",
       "    }\n",
       "\n",
       "    .dataframe thead th {\n",
       "        text-align: right;\n",
       "    }\n",
       "</style>\n",
       "<table border=\"1\" class=\"dataframe\">\n",
       "  <thead>\n",
       "    <tr style=\"text-align: right;\">\n",
       "      <th></th>\n",
       "      <th>Rank of 2024</th>\n",
       "      <th>Fortune 500rank</th>\n",
       "      <th>Name</th>\n",
       "      <th>Industry</th>\n",
       "      <th>Revenue(USD millions)</th>\n",
       "      <th>Profits(USD millions)</th>\n",
       "      <th>Employees</th>\n",
       "      <th>Headquarters</th>\n",
       "    </tr>\n",
       "  </thead>\n",
       "  <tbody>\n",
       "    <tr>\n",
       "      <th>0</th>\n",
       "      <td>1</td>\n",
       "      <td>20</td>\n",
       "      <td>TotalEnergies</td>\n",
       "      <td>Oil and gas</td>\n",
       "      <td>218,945</td>\n",
       "      <td>21,384</td>\n",
       "      <td>102,579</td>\n",
       "      <td>Courbevoie</td>\n",
       "    </tr>\n",
       "    <tr>\n",
       "      <th>1</th>\n",
       "      <td>2</td>\n",
       "      <td>49</td>\n",
       "      <td>Électricité de France</td>\n",
       "      <td>Electric utility</td>\n",
       "      <td>151,040</td>\n",
       "      <td>10,828</td>\n",
       "      <td>171,862</td>\n",
       "      <td>Paris</td>\n",
       "    </tr>\n",
       "    <tr>\n",
       "      <th>2</th>\n",
       "      <td>3</td>\n",
       "      <td>64</td>\n",
       "      <td>BNP Paribas</td>\n",
       "      <td>Banking</td>\n",
       "      <td>136,073</td>\n",
       "      <td>11,864</td>\n",
       "      <td>182,656</td>\n",
       "      <td>Paris</td>\n",
       "    </tr>\n",
       "    <tr>\n",
       "      <th>3</th>\n",
       "      <td>4</td>\n",
       "      <td>104</td>\n",
       "      <td>Société Générale</td>\n",
       "      <td>Banking</td>\n",
       "      <td>99,163</td>\n",
       "      <td>2,695</td>\n",
       "      <td>124,089</td>\n",
       "      <td>Paris</td>\n",
       "    </tr>\n",
       "    <tr>\n",
       "      <th>4</th>\n",
       "      <td>5</td>\n",
       "      <td>118</td>\n",
       "      <td>Crédit Agricole</td>\n",
       "      <td>Banking</td>\n",
       "      <td>93,358</td>\n",
       "      <td>6,863</td>\n",
       "      <td>75,125</td>\n",
       "      <td>Paris</td>\n",
       "    </tr>\n",
       "  </tbody>\n",
       "</table>\n",
       "</div>"
      ],
      "text/plain": [
       "  Rank of 2024 Fortune 500rank                   Name          Industry  \\\n",
       "0            1              20          TotalEnergies       Oil and gas   \n",
       "1            2              49  Électricité de France  Electric utility   \n",
       "2            3              64            BNP Paribas           Banking   \n",
       "3            4             104       Société Générale           Banking   \n",
       "4            5             118        Crédit Agricole           Banking   \n",
       "\n",
       "  Revenue(USD millions) Profits(USD millions) Employees Headquarters  \n",
       "0               218,945                21,384   102,579   Courbevoie  \n",
       "1               151,040                10,828   171,862        Paris  \n",
       "2               136,073                11,864   182,656        Paris  \n",
       "3                99,163                 2,695   124,089        Paris  \n",
       "4                93,358                 6,863    75,125        Paris  "
      ]
     },
     "execution_count": 26,
     "metadata": {},
     "output_type": "execute_result"
    }
   ],
   "source": [
    "\n",
    "# Affichage du premier tableau extrait\n",
    "df0 = liste_tableaux[0]\n",
    "\n",
    "# Affichage du 5 premiers lignes du dataframe\n",
    "df0.head(5)"
   ]
  },
  {
   "cell_type": "code",
   "execution_count": 27,
   "metadata": {},
   "outputs": [
    {
     "data": {
      "text/html": [
       "<div>\n",
       "<style scoped>\n",
       "    .dataframe tbody tr th:only-of-type {\n",
       "        vertical-align: middle;\n",
       "    }\n",
       "\n",
       "    .dataframe tbody tr th {\n",
       "        vertical-align: top;\n",
       "    }\n",
       "\n",
       "    .dataframe thead th {\n",
       "        text-align: right;\n",
       "    }\n",
       "</style>\n",
       "<table border=\"1\" class=\"dataframe\">\n",
       "  <thead>\n",
       "    <tr style=\"text-align: right;\">\n",
       "      <th></th>\n",
       "      <th>Rank of 2019</th>\n",
       "      <th>Fortune 2000rank</th>\n",
       "      <th>Name</th>\n",
       "      <th>Headquarters</th>\n",
       "      <th>Revenue(USD billions)</th>\n",
       "      <th>Profits(USD billions)</th>\n",
       "      <th>Total Assets(USD billions)</th>\n",
       "      <th>Market Value(USD billions)</th>\n",
       "      <th>Industry</th>\n",
       "    </tr>\n",
       "  </thead>\n",
       "  <tbody>\n",
       "    <tr>\n",
       "      <th>0</th>\n",
       "      <td>1</td>\n",
       "      <td>25</td>\n",
       "      <td>Total</td>\n",
       "      <td>Courbevoie</td>\n",
       "      <td>184.2</td>\n",
       "      <td>11.4</td>\n",
       "      <td>256.8</td>\n",
       "      <td>149.5</td>\n",
       "      <td>Oil and gas</td>\n",
       "    </tr>\n",
       "    <tr>\n",
       "      <th>1</th>\n",
       "      <td>2</td>\n",
       "      <td>34</td>\n",
       "      <td>BNP Paribas</td>\n",
       "      <td>Paris</td>\n",
       "      <td>101.6</td>\n",
       "      <td>8.4</td>\n",
       "      <td>2,333.0</td>\n",
       "      <td>68.7</td>\n",
       "      <td>Banking</td>\n",
       "    </tr>\n",
       "    <tr>\n",
       "      <th>2</th>\n",
       "      <td>3</td>\n",
       "      <td>85</td>\n",
       "      <td>Axa</td>\n",
       "      <td>Paris</td>\n",
       "      <td>139.7</td>\n",
       "      <td>2.2</td>\n",
       "      <td>1,034.5</td>\n",
       "      <td>63.6</td>\n",
       "      <td>Insurance</td>\n",
       "    </tr>\n",
       "    <tr>\n",
       "      <th>3</th>\n",
       "      <td>4</td>\n",
       "      <td>104</td>\n",
       "      <td>Crédit Agricole</td>\n",
       "      <td>Paris</td>\n",
       "      <td>52.2</td>\n",
       "      <td>4.7</td>\n",
       "      <td>1,856.9</td>\n",
       "      <td>38.4</td>\n",
       "      <td>Banking</td>\n",
       "    </tr>\n",
       "    <tr>\n",
       "      <th>4</th>\n",
       "      <td>5</td>\n",
       "      <td>114</td>\n",
       "      <td>Sanofi</td>\n",
       "      <td>Paris</td>\n",
       "      <td>40.7</td>\n",
       "      <td>5.1</td>\n",
       "      <td>127.4</td>\n",
       "      <td>102.0</td>\n",
       "      <td>Pharmaceuticals</td>\n",
       "    </tr>\n",
       "  </tbody>\n",
       "</table>\n",
       "</div>"
      ],
      "text/plain": [
       "  Rank of 2019 Fortune 2000rank             Name Headquarters  \\\n",
       "0            1               25            Total   Courbevoie   \n",
       "1            2               34      BNP Paribas        Paris   \n",
       "2            3               85              Axa        Paris   \n",
       "3            4              104  Crédit Agricole        Paris   \n",
       "4            5              114           Sanofi        Paris   \n",
       "\n",
       "  Revenue(USD billions) Profits(USD billions) Total Assets(USD billions)  \\\n",
       "0                 184.2                  11.4                      256.8   \n",
       "1                 101.6                   8.4                    2,333.0   \n",
       "2                 139.7                   2.2                    1,034.5   \n",
       "3                  52.2                   4.7                    1,856.9   \n",
       "4                  40.7                   5.1                      127.4   \n",
       "\n",
       "  Market Value(USD billions)         Industry  \n",
       "0                      149.5      Oil and gas  \n",
       "1                       68.7          Banking  \n",
       "2                       63.6        Insurance  \n",
       "3                       38.4          Banking  \n",
       "4                      102.0  Pharmaceuticals  "
      ]
     },
     "execution_count": 27,
     "metadata": {},
     "output_type": "execute_result"
    }
   ],
   "source": [
    "df1 = liste_tableaux[1]\n",
    "df1.head()"
   ]
  }
 ],
 "metadata": {
  "kernelspec": {
   "display_name": "base",
   "language": "python",
   "name": "python3"
  },
  "language_info": {
   "codemirror_mode": {
    "name": "ipython",
    "version": 3
   },
   "file_extension": ".py",
   "mimetype": "text/x-python",
   "name": "python",
   "nbconvert_exporter": "python",
   "pygments_lexer": "ipython3",
   "version": "3.12.4"
  }
 },
 "nbformat": 4,
 "nbformat_minor": 4
}
